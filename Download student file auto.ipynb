{
 "cells": [
  {
   "cell_type": "code",
   "execution_count": null,
   "metadata": {},
   "outputs": [],
   "source": [
    "from selenium import webdriver\n",
    "from selenium.webdriver.common.by import By\n",
    "from selenium.webdriver.support.ui import WebDriverWait\n",
    "from selenium.webdriver.support import expected_conditions as EC\n",
    "from selenium.common.exceptions import TimeoutException\n",
    "import time\n",
    "\n",
    "from selenium.webdriver.support.ui import Select\n",
    "\n",
    "\n",
    "driver = webdriver.Chrome(executable_path=\"\")  # put your chromedriver path\n",
    "driver.get(\"https://umd.instructure.com/\")\n",
    "\n",
    "login='//*[@id=\"username\"]'\n",
    "lg=driver.find_element_by_xpath(login)\n",
    "lg.send_keys('') #user name \n",
    "passw='//*[@id=\"password\"]'\n",
    "driver.find_element_by_xpath(passw).send_keys('') #password\n",
    "log='/html/body/div[2]/div/div[2]/div[1]/form/div[4]/button'\n",
    "driver.find_element_by_xpath(log).click()\n",
    "\n",
    "time.sleep(65)   # 65 seconds go to the first page to download\n",
    "for i in range(0, 36):    # how many students you can choose to download\n",
    "    driver.find_element_by_xpath('//*[@id=\"submission_files_list\"]/div/a[1]').click()  #下載\n",
    "    time.sleep(0.2)\n",
    "    driver.find_element_by_xpath('//*[@id=\"next-student-button\"]').click()\n",
    "\n"
   ]
  }
 ],
 "metadata": {
  "kernelspec": {
   "display_name": "Python 3",
   "language": "python",
   "name": "python3"
  },
  "language_info": {
   "codemirror_mode": {
    "name": "ipython",
    "version": 3
   },
   "file_extension": ".py",
   "mimetype": "text/x-python",
   "name": "python",
   "nbconvert_exporter": "python",
   "pygments_lexer": "ipython3",
   "version": "3.5.6"
  }
 },
 "nbformat": 4,
 "nbformat_minor": 2
}
