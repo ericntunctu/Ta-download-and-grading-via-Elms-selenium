{
 "cells": [
  {
   "cell_type": "code",
   "execution_count": null,
   "metadata": {},
   "outputs": [],
   "source": [
    "#TA grading via elms\n",
    "\n",
    "from selenium import webdriver\n",
    "from selenium.webdriver.common.by import By\n",
    "from selenium.webdriver.support.ui import WebDriverWait\n",
    "from selenium.webdriver.support import expected_conditions as EC\n",
    "from selenium.common.exceptions import TimeoutException\n",
    "import time\n",
    "\n",
    "from selenium.webdriver.support.ui import Select\n",
    "\n",
    "import xlrd\n",
    "loc = \"path for excel\"   # target excel\n",
    "\n",
    "# To open Workbook\n",
    "wb = xlrd.open_workbook(loc)\n",
    "sheet = wb.sheet_by_index(0) \n",
    "# web driver\n",
    "driver = webdriver.Chrome(executable_path=\"/Users/kuoenjui/Desktop/ta grading/chromedriver\")\n",
    "driver.get(\"https://umd.instructure.com/courses/1252407/gradebook/speed_grader?assignment_id=4701586#%7B%22student_id%22%3A%224289859%22%7D\")\n",
    "\n",
    "login='//*[@id=\"username\"]'\n",
    "lg=driver.find_element_by_xpath(login)\n",
    "lg.send_keys('xxxx')  #your account name\n",
    "passw='//*[@id=\"password\"]' \n",
    "driver.find_element_by_xpath(passw).send_keys('#your password')#your account pass\n",
    "log='/html/body/div[2]/div/div[3]/div[1]/form/div[4]/button'\n",
    "driver.find_element_by_xpath(log).click()\n",
    "\n",
    "# I give you 70 seconds to move to your grading section\n",
    "time.sleep(70)\n",
    "\n",
    "for i in range(0, 36):\n",
    "    driver.find_element_by_xpath('//*[@id=\"grading-box-extended\"]').clear()\n",
    "    driver.find_element_by_xpath('//*[@id=\"grading-box-extended\"]').send_keys(str(sheet.cell_value(3+i, 3)+3))\n",
    "    time.sleep(0.2)\n",
    "    driver.find_element_by_xpath('//*[@id=\"next-student-button\"]').click()"
   ]
  }
 ],
 "metadata": {
  "kernelspec": {
   "display_name": "Python 3",
   "language": "python",
   "name": "python3"
  },
  "language_info": {
   "codemirror_mode": {
    "name": "ipython",
    "version": 3
   },
   "file_extension": ".py",
   "mimetype": "text/x-python",
   "name": "python",
   "nbconvert_exporter": "python",
   "pygments_lexer": "ipython3",
   "version": "3.5.6"
  }
 },
 "nbformat": 4,
 "nbformat_minor": 2
}
